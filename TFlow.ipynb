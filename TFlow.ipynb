{
 "cells": [
  {
   "cell_type": "code",
   "execution_count": 4,
   "id": "fd84124a",
   "metadata": {},
   "outputs": [],
   "source": [
    "# Notes & Lecture by Akhona Njeje.\n",
    "# Date 12 July 2023.\n",
    "# Topic : Keras API.\n",
    "\n",
    "\n",
    "\n",
    "import pandas as pd\n",
    "\n",
    "data_info = pd.read_csv(\"https://www.kaggle.com/datasets/wordsforthewise/lending-club/lending_club_info.csv\")\n",
    "data_info.head() # Error.\n",
    "\n",
    "### Unfortunately you cant read data from URL on Jupyter nb, you need google collab for that. "
   ]
  },
  {
   "cell_type": "code",
   "execution_count": 1,
   "id": "6f3d9cec",
   "metadata": {},
   "outputs": [],
   "source": [
    "# EDA.\n",
    "\n",
    "### Barplot for status of loans, paid up or still paying.\n",
    "### Histogram of Loan amount, loans issued by the business in total.\n",
    "### Heatmap to investigate correlation of our dataset.\n",
    "### Boxplot between loan amount & loan status."
   ]
  },
  {
   "cell_type": "code",
   "execution_count": 2,
   "id": "10116ba8",
   "metadata": {},
   "outputs": [],
   "source": [
    "# Data Preprocessing.\n",
    "\n",
    "### Missing data.\n",
    "### Should we drop it?Fill it in? Move with missing data?\n",
    "### Count = df.isnull().sum = Columns with missing values.\n",
    "### Count = 100 * df.isnull() / len(df) = x %."
   ]
  },
  {
   "cell_type": "code",
   "execution_count": 5,
   "id": "12e685a9",
   "metadata": {},
   "outputs": [],
   "source": [
    "# Dealing with Categorical Data.\n",
    "\n",
    "### Feature engineering."
   ]
  },
  {
   "cell_type": "code",
   "execution_count": 6,
   "id": "d4de89cb",
   "metadata": {},
   "outputs": [],
   "source": [
    "# Model Development.\n",
    "\n",
    "### Train Test split.\n",
    "### Set up X & y values. y = loan repaid.\n",
    "### Normalisation.Import MinMaxScaler()\n",
    "\n",
    "### Creating the model.\n",
    "### Train the model.\n",
    "### Model evaluation."
   ]
  }
 ],
 "metadata": {
  "kernelspec": {
   "display_name": "Python 3 (ipykernel)",
   "language": "python",
   "name": "python3"
  },
  "language_info": {
   "codemirror_mode": {
    "name": "ipython",
    "version": 3
   },
   "file_extension": ".py",
   "mimetype": "text/x-python",
   "name": "python",
   "nbconvert_exporter": "python",
   "pygments_lexer": "ipython3",
   "version": "3.10.9"
  }
 },
 "nbformat": 4,
 "nbformat_minor": 5
}
